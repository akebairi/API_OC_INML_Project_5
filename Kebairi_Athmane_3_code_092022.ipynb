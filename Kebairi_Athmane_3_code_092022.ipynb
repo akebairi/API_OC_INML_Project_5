{
 "cells": [
  {
   "cell_type": "markdown",
   "id": "bb04448d-9cb2-4f56-b174-24592edab520",
   "metadata": {
    "tags": []
   },
   "source": [
    "<h1>Projet_OC_05 : Catégorisez automatiquement des questions (API)</h1>"
   ]
  },
  {
   "cell_type": "markdown",
   "id": "c8462dd8-d1e0-42be-82cb-7d550ad72db5",
   "metadata": {
    "tags": []
   },
   "source": [
    "# Sommaire :\n",
    "\n",
    "**Partie 1 : Configuration du notebook**\n",
    "\n",
    " - <a href=\"#C11\">P1.1 : Chargement des librairies </a>\n",
    " - <a href=\"#C12\">P1.2 : Fonctions </a>\n",
    " - <a href=\"#C13\">P1.3 : Chargement des données</a>\n",
    " \n",
    "**Partie 2 : Représentation de données**\n",
    "\n",
    " - <a href=\"#C21\">P2.1 : Structure de données </a>\n",
    " - <a href=\"#C22\">P2.2 : NaN et doublons </a>\n",
    " - <a href=\"#C23\">P2.3 : Inspection de données </a> \n",
    " \n",
    "**Partie 3 : Analyse de données**\n",
    "\n",
    " - <a href=\"#C31\">P3.1 : Structure de données </a>\n",
    " - <a href=\"#C32\">P3.2 : Nettoyage de données </a>\n",
    " - <a href=\"#C33\">P3.3 : Visualisation par wordcloud </a>\n",
    " \n",
    "  \n",
    "**Partie 4 : Enregistrement de données**\n",
    "\n",
    " - <a href=\"#C41\">P4.1 : nregistrement de données </a>"
   ]
  },
  {
   "cell_type": "markdown",
   "id": "b236f59f-6ba4-4943-bdc9-2e710b5b1b42",
   "metadata": {
    "jp-MarkdownHeadingCollapsed": true,
    "tags": []
   },
   "source": [
    "<h1>Partie 1 : Configuration du notebook</h1>"
   ]
  },
  {
   "cell_type": "markdown",
   "id": "1dcfa272-9ea7-4a7d-9a47-b2d7614c78b9",
   "metadata": {},
   "source": [
    "# <a name=\"C11\"> P1.1 : Chargement des librairies </a>"
   ]
  },
  {
   "cell_type": "code",
   "execution_count": 24,
   "id": "4f7e1fe1-b89b-41cc-b419-03904c8f9ef8",
   "metadata": {
    "tags": []
   },
   "outputs": [],
   "source": [
    "import os, sys, time\n",
    "\n",
    "import numpy as np\n",
    "import pandas as pd\n",
    "\n",
    "import re\n",
    "import nltk\n",
    "from nltk.tokenize import sent_tokenize, word_tokenize, wordpunct_tokenize, RegexpTokenizer\n",
    "from nltk.corpus import stopwords\n",
    "from nltk.stem import WordNetLemmatizer, PorterStemmer\n",
    "from nltk.stem.wordnet import WordNetLemmatizer\n",
    "import spacy\n",
    "from bs4 import BeautifulSoup\n",
    "import string\n",
    "\n",
    "from sklearn.base import BaseEstimator, TransformerMixin\n",
    "from sklearn.pipeline import Pipeline\n",
    "from sklearn.preprocessing import MultiLabelBinarizer\n",
    "from sklearn.model_selection import train_test_split\n",
    "from sklearn.linear_model import SGDClassifier, LogisticRegression, Perceptron\n",
    "from sklearn.multiclass import OneVsRestClassifier\n",
    "from sklearn.ensemble import RandomForestClassifier\n",
    "from sklearn.metrics import hamming_loss, jaccard_score\n",
    "import tensorflow_hub as hub\n",
    "\n",
    "import joblib\n",
    "\n",
    "import matplotlib.pyplot as plt\n",
    "import seaborn as sns\n",
    "%matplotlib inline\n",
    "sns.set()"
   ]
  },
  {
   "cell_type": "markdown",
   "id": "beacdf4e-5f6b-46d7-809b-68e60115a160",
   "metadata": {},
   "source": [
    "**La liste des librairies ci-dessus sont chargées.**"
   ]
  },
  {
   "cell_type": "markdown",
   "id": "71462af7-6fb3-49c0-92f5-ce91887424da",
   "metadata": {
    "tags": []
   },
   "source": [
    "# <a name=\"C12\"> P1.2 : Fonctions </a>"
   ]
  },
  {
   "cell_type": "code",
   "execution_count": 3,
   "id": "962a81f4-2747-46cb-9137-11c020b43977",
   "metadata": {},
   "outputs": [],
   "source": [
    "def tags_process(sentence):\n",
    "    tags = sentence.replace('<', ' ').replace('>', ' ').replace('/', ' ').strip()\n",
    "    return tags"
   ]
  },
  {
   "cell_type": "code",
   "execution_count": 4,
   "id": "be1b1a5b-c4c8-488e-852c-3a4613b02c6a",
   "metadata": {},
   "outputs": [],
   "source": [
    "def rare_tag_remove(sentence, most_freq_tags):\n",
    "    sentence_filter = [w for w in sentence.split() if w in most_freq_tags]\n",
    "    \n",
    "    if sentence_filter:\n",
    "        return ' '.join(sentence_filter)\n",
    "    else:\n",
    "        return np.nan"
   ]
  },
  {
   "cell_type": "code",
   "execution_count": 5,
   "id": "93d0fe11-ebea-4139-9ecd-36ee5513bb3f",
   "metadata": {},
   "outputs": [],
   "source": [
    "class TXTProcesser(TransformerMixin, BaseEstimator):\n",
    "    \n",
    "    def __init__(self,\n",
    "              stop_words=list(set(stopwords.words('english'))) + ['[', ']', ',', '.', ':', '?', '(', ')', 'good', 'idea', 'solution', 'issue', 'problem', 'way', 'example', \n",
    "                 'case', 'question', 'questions', 'something', 'everything', 'anything', 'thing', 'things', 'answer', 'thank', 'thanks', 'none', 'end', 'anyone', \n",
    "                 'test', 'lot', 'one', 'someone', 'help'], \n",
    "              authorized_pos=['NN', 'NNS', 'NNP', 'NNPS'], \n",
    "              no_pos_tag_list=['r', 'c', 'android', 'java', 'javascript', 'ios', 'iphone', 'c#', 'c++'], \n",
    "              no_lem_stem_list=['ios', 'pandas', 'objectivec', 'string', 'spring', 'windows', 'gems', 'named', 'cookie', 'cookies', 'css', 'r', 'files', 'types', 'functions', 'sass'],\n",
    "              nlp = spacy.load(\"en_core_web_sm\", disable=['parser', 'ner']),\n",
    "              embed = hub.load(\"https://tfhub.dev/google/universal-sentence-encoder/4\")):\n",
    "        \n",
    "        self.stop_words = stop_words\n",
    "        self.authorized_pos = authorized_pos\n",
    "        self.no_pos_tag_list = no_pos_tag_list\n",
    "        self.no_lem_stem_list = no_lem_stem_list\n",
    "        self.nlp = nlp\n",
    "        self.embed = embed\n",
    "    \n",
    "    def fit(self, X, Y=None):\n",
    "        '''\n",
    "        X_clean = []\n",
    "        for x in X:\n",
    "            X_clean.append(self.txt_clean(x))            \n",
    "    \n",
    "        return self.txt_use_feature(X_clean)'''\n",
    "        return self\n",
    "    \n",
    "    def transform(self, X, Y=None):\n",
    "        \n",
    "        X_clean = []\n",
    "        \n",
    "        if isinstance(X, list):\n",
    "            for x in X:\n",
    "                X_clean.append(self.txt_clean(x))            \n",
    "    \n",
    "            return self.txt_use_feature(X_clean)\n",
    "            \n",
    "        else:        \n",
    "            \n",
    "            for x in [X]*10:\n",
    "                X_clean.append(self.txt_clean(x))            \n",
    "\n",
    "            return [self.txt_use_feature(X_clean)[0]]\n",
    "    \n",
    "    def txt_clean(self, X, Y=None):\n",
    "\n",
    "        sentence_lower = X.lower()\n",
    "        sentence_no_html_raw = BeautifulSoup(sentence_lower, \"html.parser\")\n",
    "        for data in sentence_no_html_raw(['style', 'script', 'code', 'a']):\n",
    "            # Remove tags\n",
    "            data.decompose()\n",
    "        sentence_no_html = ' '.join(sentence_no_html_raw.stripped_strings)\n",
    "        sentence_no_abb = sentence_no_html.replace(\"what's\", \"what is \").replace(\"\\'ve\", \" have \").replace(\"can't\", \"can not \").replace(\"n't\", \" not \").replace(\"i'm\", \"i am \")\\\n",
    "                           .replace(\"\\'re\", \" are \").replace(\"\\'d\", \" would \").replace(\"\\'ll\", \" will \").replace(\"\\'scuse\", \" excuse \").replace('-', '_').replace(' - ', ' ')\\\n",
    "                           .replace(' vs ', ' ').replace(' vs. ', ' ').replace('difference between', ' ').replace('::', '')\n",
    "\n",
    "        sentence_no_new_line = re.sub(r'\\n', ' ', sentence_no_abb)\n",
    "\n",
    "        translator = str.maketrans(dict.fromkeys(string.punctuation, ' '))\n",
    "        sentence_no_caracter = sentence_no_new_line.translate(translator)\n",
    "\n",
    "        sentence_no_caracter_process = sentence_no_caracter.replace('+', 'plus').replace('#', 'sharp').replace('.net', 'dotnet').replace('asp.net', 'aspdotnet')\\\n",
    "                                                       .replace('node.js', 'nodedotjs').replace('visual studio', 'visualstudio').replace('android studio', 'androidstudio')\\\n",
    "                                                       .replace('objective-c', 'objectivec').replace('sql-server', 'sqlserver').strip()\n",
    "\n",
    "        sentence_no_stopwords = ' '.join([word for word in sentence_no_caracter_process.split() if word not in self.stop_words])\n",
    "\n",
    "\n",
    "        sentence_tokens =  [token.text for token in self.nlp(sentence_no_stopwords) if token.tag_ in self.authorized_pos and len(token.text)>=3 or token.text in self.no_pos_tag_list] \n",
    "\n",
    "\n",
    "        lemmatizer = WordNetLemmatizer()\n",
    "        lem_or_stem_tokens = [lemmatizer.lemmatize(word) if word not in self.no_lem_stem_list else word for word in sentence_tokens]\n",
    "\n",
    "\n",
    "        final_sentence = ' '.join(sentence_tokens).replace('plus', '+').replace('_', '-').replace('sharp', '#').replace('dotnet', '.net').replace('aspdotnet', 'asp.net')\\\n",
    "                                                        .replace('nodedotjs', 'node.js').replace('visualstudio', 'visual-studio').replace('objectivec', 'objective-c')\\\n",
    "                                                        .replace('androidstudio', 'android-studio').replace('sqlserver', 'sql-server').strip()\n",
    "\n",
    "        return final_sentence  \n",
    "    \n",
    "    def txt_use_feature(self, X, Y=None):\n",
    "        batch_size = 10\n",
    "        \n",
    "        for step in range(len(X)//batch_size) :\n",
    "            idx = step*batch_size\n",
    "            feat = self.embed(X[idx:idx+batch_size])\n",
    "\n",
    "            if step ==0 :\n",
    "                features = feat\n",
    "            else :\n",
    "                features = np.concatenate((features,feat))\n",
    "\n",
    "        return features"
   ]
  },
  {
   "cell_type": "code",
   "execution_count": 7,
   "id": "c14ccb1d-babf-4c60-a2f0-145258a8b59b",
   "metadata": {},
   "outputs": [],
   "source": [
    "class TXTModel(TransformerMixin, BaseEstimator):\n",
    "    \n",
    "    def __init__(self, clf=OneVsRestClassifier(SGDClassifier()), ml_binarizer=MultiLabelBinarizer(), arg_sort=np):\n",
    "        self.clf=OneVsRestClassifier(SGDClassifier())\n",
    "        self.ml_binarizer=MultiLabelBinarizer()\n",
    "        self.arg_sort=np\n",
    "    \n",
    "    def fit(self, X, Y):\n",
    "        self.ml_binarizer.fit(Y)\n",
    "        self.clf.fit(X, self.ml_binarizer.transform(Y))\n",
    "        \n",
    "    def predict(self, X):\n",
    "        \n",
    "        return self.clf.predict(X)\n",
    "    \n",
    "    def decision_function(self, X):\n",
    "\n",
    "        dfun = self.clf.decision_function(X)\n",
    "        most_common_idx = self.arg_sort.argsort(dfun)[:, -5:]\n",
    "        return self.classes_(most_common_idx)\n",
    "    \n",
    "    def transform(self, Y):\n",
    "        \n",
    "        return self.ml_binarizer.transform(Y) \n",
    "        \n",
    "    def inverse_transform(self, Yt):\n",
    "        \n",
    "        return self.ml_binarizer.inverse_transform(Yt)      \n",
    "    \n",
    "    def classes_(self, Y_idx):\n",
    "        \n",
    "        return self.ml_binarizer.classes_[Y_idx]\n",
    "    "
   ]
  },
  {
   "cell_type": "markdown",
   "id": "b238cb73-68e7-4719-86f7-abfaac666530",
   "metadata": {
    "tags": []
   },
   "source": [
    "# <a name=\"C13\"> P1.3 : Chargement des données </a>"
   ]
  },
  {
   "cell_type": "code",
   "execution_count": 8,
   "id": "58ff71e9-3bcd-4cd3-9d03-a1a9e3fd4b83",
   "metadata": {},
   "outputs": [
    {
     "name": "stdout",
     "output_type": "stream",
     "text": [
      "------------------------------------------------------------------------------------------------------------------------------------------------------\n",
      "Data size: (27832, 3)\n",
      "------------------------------------------------------------------------------------------------------------------------------------------------------\n"
     ]
    },
    {
     "data": {
      "text/html": [
       "<div>\n",
       "<style scoped>\n",
       "    .dataframe tbody tr th:only-of-type {\n",
       "        vertical-align: middle;\n",
       "    }\n",
       "\n",
       "    .dataframe tbody tr th {\n",
       "        vertical-align: top;\n",
       "    }\n",
       "\n",
       "    .dataframe thead th {\n",
       "        text-align: right;\n",
       "    }\n",
       "</style>\n",
       "<table border=\"1\" class=\"dataframe\">\n",
       "  <thead>\n",
       "    <tr style=\"text-align: right;\">\n",
       "      <th></th>\n",
       "      <th>Title</th>\n",
       "      <th>Body</th>\n",
       "      <th>Tags</th>\n",
       "    </tr>\n",
       "  </thead>\n",
       "  <tbody>\n",
       "    <tr>\n",
       "      <th>0</th>\n",
       "      <td>Post data to JsonP</td>\n",
       "      <td>&lt;p&gt;Is it possible to post data to JsonP? Or do...</td>\n",
       "      <td>&lt;javascript&gt;&lt;jquery&gt;&lt;ajax&gt;&lt;json&gt;&lt;jsonp&gt;</td>\n",
       "    </tr>\n",
       "    <tr>\n",
       "      <th>1</th>\n",
       "      <td>How do I run NUnit in debug mode from Visual S...</td>\n",
       "      <td>&lt;p&gt;I've recently been building a test framewor...</td>\n",
       "      <td>&lt;c#&gt;&lt;visual-studio-2008&gt;&lt;unit-testing&gt;&lt;testing...</td>\n",
       "    </tr>\n",
       "    <tr>\n",
       "      <th>2</th>\n",
       "      <td>Output different precision by column with pand...</td>\n",
       "      <td>&lt;h2&gt;Question&lt;/h2&gt;\\n\\n&lt;p&gt;Is it possible to spec...</td>\n",
       "      <td>&lt;python&gt;&lt;csv&gt;&lt;numpy&gt;&lt;floating-point&gt;&lt;pandas&gt;</td>\n",
       "    </tr>\n",
       "    <tr>\n",
       "      <th>3</th>\n",
       "      <td>How to use p4merge as the merge/diff tool for ...</td>\n",
       "      <td>&lt;p&gt;Does anyone know how to setup &lt;a href=\"http...</td>\n",
       "      <td>&lt;macos&gt;&lt;configuration&gt;&lt;mercurial&gt;&lt;perforce&gt;&lt;p4...</td>\n",
       "    </tr>\n",
       "    <tr>\n",
       "      <th>4</th>\n",
       "      <td>How to change the locale in chrome browser</td>\n",
       "      <td>&lt;p&gt;I want to change Accept-language request he...</td>\n",
       "      <td>&lt;google-chrome&gt;&lt;google-chrome-extension&gt;&lt;brows...</td>\n",
       "    </tr>\n",
       "  </tbody>\n",
       "</table>\n",
       "</div>"
      ],
      "text/plain": [
       "                                               Title  \\\n",
       "0                                 Post data to JsonP   \n",
       "1  How do I run NUnit in debug mode from Visual S...   \n",
       "2  Output different precision by column with pand...   \n",
       "3  How to use p4merge as the merge/diff tool for ...   \n",
       "4         How to change the locale in chrome browser   \n",
       "\n",
       "                                                Body  \\\n",
       "0  <p>Is it possible to post data to JsonP? Or do...   \n",
       "1  <p>I've recently been building a test framewor...   \n",
       "2  <h2>Question</h2>\\n\\n<p>Is it possible to spec...   \n",
       "3  <p>Does anyone know how to setup <a href=\"http...   \n",
       "4  <p>I want to change Accept-language request he...   \n",
       "\n",
       "                                                Tags  \n",
       "0            <javascript><jquery><ajax><json><jsonp>  \n",
       "1  <c#><visual-studio-2008><unit-testing><testing...  \n",
       "2       <python><csv><numpy><floating-point><pandas>  \n",
       "3  <macos><configuration><mercurial><perforce><p4...  \n",
       "4  <google-chrome><google-chrome-extension><brows...  "
      ]
     },
     "execution_count": 8,
     "metadata": {},
     "output_type": "execute_result"
    }
   ],
   "source": [
    "raw_txt_data = pd.read_csv('data.csv')\n",
    "raw_txt_data = raw_txt_data.select_dtypes(include=object)\n",
    "\n",
    "print('-'*150)\n",
    "print('Data size:', raw_txt_data.shape)\n",
    "print('-'*150)\n",
    "raw_txt_data.head()"
   ]
  },
  {
   "cell_type": "code",
   "execution_count": 17,
   "id": "2fce1b45-3b8e-4fff-8d74-02c10b557ff7",
   "metadata": {},
   "outputs": [],
   "source": [
    "raw_txt_data['Tags'] = raw_txt_data.Tags.apply(lambda x: tags_process(x))\n",
    "\n",
    "all_tags = ' '.join(raw_txt_data['Tags'].tolist()).split()\n",
    "keywords = nltk.FreqDist(all_tags)\n",
    "most_freq_tags = []\n",
    "for (w, f) in keywords.most_common(100):\n",
    "    most_freq_tags.append(w)\n",
    "\n",
    "raw_txt_data['Tags'] = raw_txt_data.Tags.apply(lambda sentence: rare_tag_remove(sentence, most_freq_tags))\n",
    "raw_txt_data.dropna(inplace=True)"
   ]
  },
  {
   "cell_type": "code",
   "execution_count": 18,
   "id": "5e835549-e585-45f4-b39f-c2da8fead63a",
   "metadata": {},
   "outputs": [],
   "source": [
    "data = raw_txt_data.sample(frac=0.1)\n",
    "\n",
    "X = (data.Title + ' ' + data.Body).tolist()\n",
    "\n",
    "y = data.Tags\n",
    "\n",
    "X_train, X_test, y_train, y_test = train_test_split(X, y, test_size = 0.3, random_state = 1) \n",
    "\n",
    "y_train_list = y_train.apply(lambda x: x.split()).tolist()\n",
    "y_test_list = y_test.apply(lambda x: x.split()).tolist()"
   ]
  },
  {
   "cell_type": "markdown",
   "id": "0c6de190-8141-4656-9ea8-22dc3c4a6a21",
   "metadata": {},
   "source": [
    "# <a name=\"C21\"> P2.1 : Pipeline </a>"
   ]
  },
  {
   "cell_type": "code",
   "execution_count": 19,
   "id": "1b36c426-7a28-4cc4-9f7a-d2dd7739c83d",
   "metadata": {},
   "outputs": [],
   "source": [
    "pipe = Pipeline([('transformer', TXTProcesser()), ('model', TXTModel())])"
   ]
  },
  {
   "cell_type": "code",
   "execution_count": 20,
   "id": "e75d2a6b-4f6a-4904-9756-25b21692cc46",
   "metadata": {},
   "outputs": [
    {
     "data": {
      "text/html": [
       "<style>#sk-container-id-2 {color: black;background-color: white;}#sk-container-id-2 pre{padding: 0;}#sk-container-id-2 div.sk-toggleable {background-color: white;}#sk-container-id-2 label.sk-toggleable__label {cursor: pointer;display: block;width: 100%;margin-bottom: 0;padding: 0.3em;box-sizing: border-box;text-align: center;}#sk-container-id-2 label.sk-toggleable__label-arrow:before {content: \"▸\";float: left;margin-right: 0.25em;color: #696969;}#sk-container-id-2 label.sk-toggleable__label-arrow:hover:before {color: black;}#sk-container-id-2 div.sk-estimator:hover label.sk-toggleable__label-arrow:before {color: black;}#sk-container-id-2 div.sk-toggleable__content {max-height: 0;max-width: 0;overflow: hidden;text-align: left;background-color: #f0f8ff;}#sk-container-id-2 div.sk-toggleable__content pre {margin: 0.2em;color: black;border-radius: 0.25em;background-color: #f0f8ff;}#sk-container-id-2 input.sk-toggleable__control:checked~div.sk-toggleable__content {max-height: 200px;max-width: 100%;overflow: auto;}#sk-container-id-2 input.sk-toggleable__control:checked~label.sk-toggleable__label-arrow:before {content: \"▾\";}#sk-container-id-2 div.sk-estimator input.sk-toggleable__control:checked~label.sk-toggleable__label {background-color: #d4ebff;}#sk-container-id-2 div.sk-label input.sk-toggleable__control:checked~label.sk-toggleable__label {background-color: #d4ebff;}#sk-container-id-2 input.sk-hidden--visually {border: 0;clip: rect(1px 1px 1px 1px);clip: rect(1px, 1px, 1px, 1px);height: 1px;margin: -1px;overflow: hidden;padding: 0;position: absolute;width: 1px;}#sk-container-id-2 div.sk-estimator {font-family: monospace;background-color: #f0f8ff;border: 1px dotted black;border-radius: 0.25em;box-sizing: border-box;margin-bottom: 0.5em;}#sk-container-id-2 div.sk-estimator:hover {background-color: #d4ebff;}#sk-container-id-2 div.sk-parallel-item::after {content: \"\";width: 100%;border-bottom: 1px solid gray;flex-grow: 1;}#sk-container-id-2 div.sk-label:hover label.sk-toggleable__label {background-color: #d4ebff;}#sk-container-id-2 div.sk-serial::before {content: \"\";position: absolute;border-left: 1px solid gray;box-sizing: border-box;top: 0;bottom: 0;left: 50%;z-index: 0;}#sk-container-id-2 div.sk-serial {display: flex;flex-direction: column;align-items: center;background-color: white;padding-right: 0.2em;padding-left: 0.2em;position: relative;}#sk-container-id-2 div.sk-item {position: relative;z-index: 1;}#sk-container-id-2 div.sk-parallel {display: flex;align-items: stretch;justify-content: center;background-color: white;position: relative;}#sk-container-id-2 div.sk-item::before, #sk-container-id-2 div.sk-parallel-item::before {content: \"\";position: absolute;border-left: 1px solid gray;box-sizing: border-box;top: 0;bottom: 0;left: 50%;z-index: -1;}#sk-container-id-2 div.sk-parallel-item {display: flex;flex-direction: column;z-index: 1;position: relative;background-color: white;}#sk-container-id-2 div.sk-parallel-item:first-child::after {align-self: flex-end;width: 50%;}#sk-container-id-2 div.sk-parallel-item:last-child::after {align-self: flex-start;width: 50%;}#sk-container-id-2 div.sk-parallel-item:only-child::after {width: 0;}#sk-container-id-2 div.sk-dashed-wrapped {border: 1px dashed gray;margin: 0 0.4em 0.5em 0.4em;box-sizing: border-box;padding-bottom: 0.4em;background-color: white;}#sk-container-id-2 div.sk-label label {font-family: monospace;font-weight: bold;display: inline-block;line-height: 1.2em;}#sk-container-id-2 div.sk-label-container {text-align: center;}#sk-container-id-2 div.sk-container {/* jupyter's `normalize.less` sets `[hidden] { display: none; }` but bootstrap.min.css set `[hidden] { display: none !important; }` so we also need the `!important` here to be able to override the default hidden behavior on the sphinx rendered scikit-learn.org. See: https://github.com/scikit-learn/scikit-learn/issues/21755 */display: inline-block !important;position: relative;}#sk-container-id-2 div.sk-text-repr-fallback {display: none;}</style><div id=\"sk-container-id-2\" class=\"sk-top-container\"><div class=\"sk-text-repr-fallback\"><pre>Pipeline(steps=[(&#x27;transformer&#x27;, TXTProcesser()), (&#x27;model&#x27;, TXTModel())])</pre><b>In a Jupyter environment, please rerun this cell to show the HTML representation or trust the notebook. <br />On GitHub, the HTML representation is unable to render, please try loading this page with nbviewer.org.</b></div><div class=\"sk-container\" hidden><div class=\"sk-item sk-dashed-wrapped\"><div class=\"sk-label-container\"><div class=\"sk-label sk-toggleable\"><input class=\"sk-toggleable__control sk-hidden--visually\" id=\"sk-estimator-id-9\" type=\"checkbox\" ><label for=\"sk-estimator-id-9\" class=\"sk-toggleable__label sk-toggleable__label-arrow\">Pipeline</label><div class=\"sk-toggleable__content\"><pre>Pipeline(steps=[(&#x27;transformer&#x27;, TXTProcesser()), (&#x27;model&#x27;, TXTModel())])</pre></div></div></div><div class=\"sk-serial\"><div class=\"sk-item\"><div class=\"sk-estimator sk-toggleable\"><input class=\"sk-toggleable__control sk-hidden--visually\" id=\"sk-estimator-id-10\" type=\"checkbox\" ><label for=\"sk-estimator-id-10\" class=\"sk-toggleable__label sk-toggleable__label-arrow\">TXTProcesser</label><div class=\"sk-toggleable__content\"><pre>TXTProcesser()</pre></div></div></div><div class=\"sk-item sk-dashed-wrapped\"><div class=\"sk-label-container\"><div class=\"sk-label sk-toggleable\"><input class=\"sk-toggleable__control sk-hidden--visually\" id=\"sk-estimator-id-11\" type=\"checkbox\" ><label for=\"sk-estimator-id-11\" class=\"sk-toggleable__label sk-toggleable__label-arrow\">model: TXTModel</label><div class=\"sk-toggleable__content\"><pre>TXTModel()</pre></div></div></div><div class=\"sk-parallel\"><div class=\"sk-parallel-item\"><div class=\"sk-item\"><div class=\"sk-label-container\"><div class=\"sk-label sk-toggleable\"><input class=\"sk-toggleable__control sk-hidden--visually\" id=\"sk-estimator-id-12\" type=\"checkbox\" ><label for=\"sk-estimator-id-12\" class=\"sk-toggleable__label sk-toggleable__label-arrow\">clf: OneVsRestClassifier</label><div class=\"sk-toggleable__content\"><pre>OneVsRestClassifier(estimator=SGDClassifier())</pre></div></div></div><div class=\"sk-serial\"><div class=\"sk-item sk-dashed-wrapped\"><div class=\"sk-parallel\"><div class=\"sk-parallel-item\"><div class=\"sk-item\"><div class=\"sk-label-container\"><div class=\"sk-label sk-toggleable\"><input class=\"sk-toggleable__control sk-hidden--visually\" id=\"sk-estimator-id-13\" type=\"checkbox\" ><label for=\"sk-estimator-id-13\" class=\"sk-toggleable__label sk-toggleable__label-arrow\">estimator: SGDClassifier</label><div class=\"sk-toggleable__content\"><pre>SGDClassifier()</pre></div></div></div><div class=\"sk-serial\"><div class=\"sk-item\"><div class=\"sk-estimator sk-toggleable\"><input class=\"sk-toggleable__control sk-hidden--visually\" id=\"sk-estimator-id-14\" type=\"checkbox\" ><label for=\"sk-estimator-id-14\" class=\"sk-toggleable__label sk-toggleable__label-arrow\">SGDClassifier</label><div class=\"sk-toggleable__content\"><pre>SGDClassifier()</pre></div></div></div></div></div></div></div></div></div></div></div><div class=\"sk-parallel-item\"><div class=\"sk-item\"><div class=\"sk-label-container\"><div class=\"sk-label sk-toggleable\"><input class=\"sk-toggleable__control sk-hidden--visually\" id=\"sk-estimator-id-15\" type=\"checkbox\" ><label for=\"sk-estimator-id-15\" class=\"sk-toggleable__label sk-toggleable__label-arrow\">ml_binarizer: MultiLabelBinarizer</label><div class=\"sk-toggleable__content\"><pre>MultiLabelBinarizer()</pre></div></div></div><div class=\"sk-serial\"><div class=\"sk-item\"><div class=\"sk-estimator sk-toggleable\"><input class=\"sk-toggleable__control sk-hidden--visually\" id=\"sk-estimator-id-16\" type=\"checkbox\" ><label for=\"sk-estimator-id-16\" class=\"sk-toggleable__label sk-toggleable__label-arrow\">MultiLabelBinarizer</label><div class=\"sk-toggleable__content\"><pre>MultiLabelBinarizer()</pre></div></div></div></div></div></div></div></div></div></div></div></div>"
      ],
      "text/plain": [
       "Pipeline(steps=[('transformer', TXTProcesser()), ('model', TXTModel())])"
      ]
     },
     "execution_count": 20,
     "metadata": {},
     "output_type": "execute_result"
    }
   ],
   "source": [
    "pipe.fit(X[:(len(X_train)//10)*10], y_train_list[:(len(X_train)//10)*10])"
   ]
  },
  {
   "cell_type": "markdown",
   "id": "ad7c4b97-8c27-4409-a3da-6670bef8bd94",
   "metadata": {},
   "source": [
    "# <a name=\"C22\"> P2.2 : déploiement du pipeline </a>"
   ]
  },
  {
   "cell_type": "code",
   "execution_count": 25,
   "id": "664108c6-4967-4b4d-81d7-04e13b4ec476",
   "metadata": {},
   "outputs": [
    {
     "data": {
      "text/plain": [
       "['pipeline_housing.joblib']"
      ]
     },
     "execution_count": 25,
     "metadata": {},
     "output_type": "execute_result"
    }
   ],
   "source": [
    "joblib.dump('pipe', 'pipeline_housing.joblib')"
   ]
  },
  {
   "cell_type": "code",
   "execution_count": null,
   "id": "6b865cb2-a7ae-48ae-b448-e9a1338bfb4c",
   "metadata": {},
   "outputs": [],
   "source": []
  }
 ],
 "metadata": {
  "kernelspec": {
   "display_name": "Python 3 (ipykernel)",
   "language": "python",
   "name": "python3"
  },
  "language_info": {
   "codemirror_mode": {
    "name": "ipython",
    "version": 3
   },
   "file_extension": ".py",
   "mimetype": "text/x-python",
   "name": "python",
   "nbconvert_exporter": "python",
   "pygments_lexer": "ipython3",
   "version": "3.9.13"
  }
 },
 "nbformat": 4,
 "nbformat_minor": 5
}
